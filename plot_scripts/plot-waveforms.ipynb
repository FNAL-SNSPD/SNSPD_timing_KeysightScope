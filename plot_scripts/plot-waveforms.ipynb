{
 "cells": [
  {
   "cell_type": "code",
   "execution_count": 2,
   "id": "3a7222a3",
   "metadata": {},
   "outputs": [
    {
     "name": "stdout",
     "output_type": "stream",
     "text": [
      "Welcome to JupyROOT 6.30/02\n"
     ]
    }
   ],
   "source": [
    "import awkward as ak\n",
    "import uproot\n",
    "import numpy as np\n",
    "from scipy.optimize import curve_fit\n",
    "\n",
    "\n",
    "import sys\n",
    "import datetime\n",
    "import numpy as np\n",
    "import pandas as pd\n",
    "import csv\n",
    "import os\n",
    "import subprocess\n",
    "import ROOT as rt\n",
    "import itertools\n",
    "\n",
    "\n",
    "REPO_BASE_PATH = subprocess.Popen(['git', 'rev-parse', '--show-toplevel'], stdout=subprocess.PIPE).communicate()[0].rstrip().decode('utf-8')\n",
    "plot_path = f\"{REPO_BASE_PATH}/plots/ADR/time_resolution_202503/\"\n",
    "os.makedirs(plot_path, exist_ok=True)\n",
    "\n",
    "sys.path.append(REPO_BASE_PATH + \"/lib\")\n",
    "from histo_utilities import *\n",
    "\n",
    "import tdrstyle\n",
    "a = tdrstyle.setTDRStyle()"
   ]
  },
  {
   "cell_type": "code",
   "execution_count": 17,
   "id": "35d65a33",
   "metadata": {
    "scrolled": false
   },
   "outputs": [
    {
     "name": "stdout",
     "output_type": "stream",
     "text": [
      "dict_keys(['0.2_B4_P1_0p16', '0.2_B1_P2_0p16', '0.2_B2_P3_0p16'])\n"
     ]
    }
   ],
   "source": [
    "files_raw = {}\n",
    "tree_raw = {}\n",
    "\n",
    "# Open the input ROOT file\n",
    "voltages = np.round([0.160],3)\n",
    "biases = [4,1,2] #slot number of voltage source\n",
    "pixels = [1,2,3] # pixel number in SNSPD\n",
    "scope_ch = [2,3,4] # channel on scope\n",
    "\n",
    "\n",
    "inputDirBase = \"root://cmseos.fnal.gov///eos/uscms/store/user/christiw/SNSPD_data/ADR_time_resolution_202503/\"\n",
    "# inputDirBase = \"/eos/uscms/store/user/christiw/SNSPD_data/ADR_time_resolution_202503/\"\n",
    "tempToDir = {\n",
    "0.2: \"20250311_0p2K\",\n",
    "# 0.5: \"20250310_0p5K\",\n",
    "# 0.8: \"20250309_0p8K\",\n",
    "# 1:\"20250310_1p0K\",\n",
    "\n",
    " }\n",
    "\n",
    "# load raw files\n",
    "for k, path in tempToDir.items():\n",
    "    inputDir = f\"{inputDirBase}/{path}/raw/\"\n",
    "    for ch_i, bias_ch in enumerate(biases): # loop over pixels\n",
    "        name = f\"B{bias_ch}_P{pixels[ch_i]}\"\n",
    "        for j, v in enumerate(voltages): # loop over voltages  \n",
    "            bv_string = str(voltages[j]).replace(\".\",\"p\")\n",
    "            files_raw[f'{k}_{name}_{bv_string}'] = inputDir+f'output_run{name}_BV{bv_string}.root'\n",
    "for k, v in files_raw.items():\n",
    "    tree_raw[k] = uproot.open(v)[\"pulse\"]\n",
    "print(tree_raw.keys())"
   ]
  },
  {
   "cell_type": "markdown",
   "id": "f808aa93",
   "metadata": {},
   "source": [
    "# Plot waveforms"
   ]
  },
  {
   "cell_type": "code",
   "execution_count": 20,
   "id": "3f293a2d",
   "metadata": {
    "scrolled": false
   },
   "outputs": [
    {
     "name": "stdout",
     "output_type": "stream",
     "text": [
      "1.2876932e-05 1.1644518\n",
      "3.8574217e-07 0.113048635\n"
     ]
    },
    {
     "name": "stderr",
     "output_type": "stream",
     "text": [
      "Warning in <TCanvas::Constructor>: Deleting canvas with same name: c20\n",
      "Info in <TCanvas::Print>: png file /uscms_data/d3/christiw/SNSPD/SNSPD_timing_KeysightScope/plots/ADR/time_resolution_202503//waveforms/waveform_20.png has been created\n",
      "Info in <TCanvas::Print>: pdf file /uscms_data/d3/christiw/SNSPD/SNSPD_timing_KeysightScope/plots/ADR/time_resolution_202503//waveforms/waveform_20.pdf has been created\n"
     ]
    }
   ],
   "source": [
    "T_raw = tree_raw['0.2_B4_P1_0p16'].arrays(entry_stop=100)\n",
    "T = tree['0.2_B4_P1_0p16'].arrays(entry_stop=100)\n",
    "\n",
    "os.makedirs(f\"{plot_path}/waveforms\", exist_ok=True)\n",
    "\n",
    "for i_evt in range(100):\n",
    "    if not i_evt == 20:continue\n",
    "    cond = T_raw['i_evt'] == i_evt\n",
    "    ch = np.array(T_raw['channel'][cond])\n",
    "    t = np.array(T_raw['time'][cond])\n",
    "    slope = T['slope'][i_evt]\n",
    "    intercept = T['intercept'][i_evt]\n",
    "    t_start = T['t_10'][i_evt]\n",
    "    t_stop = T['t_90'][i_evt]\n",
    "    c = rt.TCanvas(f\"c{i_evt}\",f\"c_{i_evt}\",200,10,700,500);\n",
    "    h = {}\n",
    "    f = {}\n",
    "\n",
    "\n",
    "    baseline = T['baseline'][i_evt]\n",
    "    baseline_rms = T['baseline_rms'][i_evt]\n",
    "    for i in [0,1]:# for laser and SNSPD\n",
    "        waveform_baseline_subtracted = np.abs(ch[0,i,:] - baseline[i])\n",
    "        min_val = np.min(waveform_baseline_subtracted)\n",
    "        max_val = np.max(waveform_baseline_subtracted)\n",
    "        norm_waveform = (waveform_baseline_subtracted - min_val) / (max_val - min_val)\n",
    "\n",
    "        ## plot normalized waveforms\n",
    "        h[i] = create_TGraph(t[0,i,:]*1e9, norm_waveform, axis_title = ['time [ns]','a.u.'])\n",
    "        \n",
    "        ## plot baseline subtracted waveforms\n",
    "#         h[i] = create_TGraph(t[0,i,:]*1e9, waveform_baseline_subtracted, axis_title = ['time [ns]','a.u.'])\n",
    "        \n",
    "        \n",
    "        ## plot raw waveforms\n",
    "        #h[i] = create_TGraph(t[0,i,:]*1e9, ch[0,i,:], axis_title = ['time [ns]','Voltage [V]'])\n",
    "\n",
    "        f[i] = rt.TF1(f\"f{i}\", f\"{slope[i]}*x + {intercept[i]}\", t_start[i], t_stop[i])\n",
    "\n",
    "    for i, k in enumerate(h.keys()):\n",
    "        h[k].SetMarkerColor(std_color_list[i])        \n",
    "        h[k].Draw(\"ap\" if i == 0 else 'p')\n",
    "    \n",
    "        f[k].SetLineWidth(2)\n",
    "        f[k].SetLineColor(std_color_list[i+2])\n",
    "        f[k].Draw('same')\n",
    "\n",
    "\n",
    "\n",
    "    c.Draw()\n",
    "    c.SaveAs(f'{plot_path}/waveforms/waveform_{i_evt}.png')\n",
    "    c.SaveAs(f'{plot_path}/waveforms/waveform_{i_evt}.pdf')\n"
   ]
  },
  {
   "cell_type": "code",
   "execution_count": null,
   "id": "f6ab78b6",
   "metadata": {},
   "outputs": [],
   "source": []
  },
  {
   "cell_type": "code",
   "execution_count": null,
   "id": "24a9c5dd",
   "metadata": {},
   "outputs": [],
   "source": []
  },
  {
   "cell_type": "code",
   "execution_count": null,
   "id": "17de8d4a",
   "metadata": {},
   "outputs": [],
   "source": []
  }
 ],
 "metadata": {
  "kernelspec": {
   "display_name": "Python 3 (ipykernel)",
   "language": "python",
   "name": "python3"
  },
  "language_info": {
   "codemirror_mode": {
    "name": "ipython",
    "version": 3
   },
   "file_extension": ".py",
   "mimetype": "text/x-python",
   "name": "python",
   "nbconvert_exporter": "python",
   "pygments_lexer": "ipython3",
   "version": "3.9.12"
  }
 },
 "nbformat": 4,
 "nbformat_minor": 5
}
