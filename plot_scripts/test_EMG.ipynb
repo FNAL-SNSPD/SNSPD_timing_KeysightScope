{
 "cells": [
  {
   "cell_type": "code",
   "execution_count": 70,
   "id": "996f3828",
   "metadata": {},
   "outputs": [],
   "source": [
    "'''\n",
    "Code to test exponentially modified gaussian fit works\n",
    "\n",
    "Christina Wang 04/04/2025\n",
    "\n",
    "'''\n",
    "\n",
    "import ROOT\n",
    "import random\n",
    "import math\n",
    "import numpy as np\n",
    "import os\n",
    "import uproot\n",
    "import sys\n",
    "import subprocess\n",
    "\n",
    "REPO_BASE_PATH = subprocess.Popen(['git', 'rev-parse', '--show-toplevel'], stdout=subprocess.PIPE).communicate()[0].rstrip().decode('utf-8')\n",
    "plot_path = f\"{REPO_BASE_PATH}/plots/ADR/time_resolution_202503/\"\n",
    "os.makedirs(plot_path, exist_ok=True)\n",
    "\n",
    "sys.path.append(REPO_BASE_PATH + \"/lib\")\n",
    "from histo_utilities import *\n"
   ]
  },
  {
   "cell_type": "code",
   "execution_count": 71,
   "id": "b6adc778",
   "metadata": {},
   "outputs": [],
   "source": [
    "### throw toys for EMG\n",
    "\n",
    "def exp_modified_gaussian(mu, sigma, lambd, size=1):\n",
    "    normal_samples = np.random.normal(mu, sigma, size)\n",
    "    exponential_samples = np.random.exponential(1/lambd, size)\n",
    "    return normal_samples + exponential_samples\n",
    "\n",
    "hist = ROOT.TH1F(\"hist\", \"EMG Distribution\", 200, -5, 15)\n",
    "\n",
    "# Fit the histogram with a EMG function\n",
    "mu = 0\n",
    "sigma = 1\n",
    "lambd = 0.5\n",
    "size = 10000\n",
    "\n",
    "emg_samples = exp_modified_gaussian(mu, sigma, lambd, size)\n",
    "for i in range(size):\n",
    "    hist.Fill(emg_samples[i])\n"
   ]
  },
  {
   "cell_type": "code",
   "execution_count": 72,
   "id": "e88f56b8",
   "metadata": {},
   "outputs": [
    {
     "name": "stdout",
     "output_type": "stream",
     "text": [
      "dict_keys(['B4_P1_0p17', 'B1_P2_0p17', 'B2_P3_0p17'])\n"
     ]
    }
   ],
   "source": [
    "### load actual data from SNSPDs to test the fit\n",
    "\n",
    "files = {}\n",
    "files_raw = {}\n",
    "tree = {}\n",
    "tree_raw = {}\n",
    "# Open the input ROOT file\n",
    "voltages = np.round([0.170],3)\n",
    "biases = [4,1,2] #slot number of voltage source\n",
    "pixels = [1,2,3] # pixel number in SNSPD\n",
    "scope_ch = [2,3,4] # channel on scope\n",
    "\n",
    "inputDirBase = \"root://cmseos.fnal.gov///eos/uscms/store/user/christiw/SNSPD_data/ADR_time_resolution_202503/20250311_0p2K\"\n",
    "\n",
    "inputDir = f\"{inputDirBase}/reco/v2/\"\n",
    "for ch_i, bias_ch in enumerate(biases): # loop over pixels\n",
    "    name = f\"B{bias_ch}_P{pixels[ch_i]}\"\n",
    "    for j, v in enumerate(voltages): # loop over voltages  \n",
    "        bv_string = str(voltages[j]).replace(\".\",\"p\")\n",
    "        files[f'{name}_{bv_string}'] = inputDir+f'output_run{name}_BV{bv_string}.root'\n",
    "for k, v in files.items():\n",
    "    if not os.path.exists(v[v.find(\"/eos\"):]): \n",
    "        print(\"FILE NOT FOUND\", v)\n",
    "        continue\n",
    "    tree[k] = uproot.open(v)[\"pulse\"]\n",
    "\n",
    "print(tree.keys())"
   ]
  },
  {
   "cell_type": "code",
   "execution_count": 121,
   "id": "3b7ff9c8",
   "metadata": {},
   "outputs": [
    {
     "name": "stdout",
     "output_type": "stream",
     "text": [
      "B2_P3_0p17\n"
     ]
    },
    {
     "name": "stderr",
     "output_type": "stream",
     "text": [
      "Warning in <TROOT::Append>: Replacing existing TH1: h (Potential memory leak).\n"
     ]
    }
   ],
   "source": [
    "\n",
    "time = {}\n",
    "rise_time = {}\n",
    "amplitude = {}\n",
    "time_nofit = {}\n",
    "time_50mV_nofit = {}\n",
    "baseline_rms = {}\n",
    "time_50mV = {}\n",
    "s2n = {}\n",
    "intercept = {}\n",
    "slope = {}\n",
    "for k, T in tree.items():\n",
    "    amplitude[k] = T['amplitude'].array()\n",
    "    rise_time[k] = T['rise_time'].array()\n",
    "    intercept[k] = T['intercept'].array()\n",
    "    slope[k] = T['slope'].array()\n",
    "    \n",
    "    time[k] = T['time'].array()\n",
    "    time_nofit[k] = T['time_nofit'].array()\n",
    "    time_50mV_nofit[k] = T['time_50mV_nofit'].array()\n",
    "#     time_50mV[k] = T['time_50mV'].array()\n",
    "    baseline_rms[k] = T['baseline_rms'].array()\n",
    "    s2n[k] = amplitude[k]/baseline_rms[k]\n",
    "    \n",
    "    amp_threshold = 0.5 * np.array([np.mean(amplitude[k][:,0][amplitude[k][:,0]>-999]), np.mean(amplitude[k][:,1][amplitude[k][:,1]>-999])])\n",
    "    time_50mV[k] = (amp_threshold/amplitude[k] - intercept[k]) / slope[k]\n",
    "        \n",
    "        \n",
    "        \n",
    "hist = create_TH1D((time_50mV[k][:,1]-time_50mV[k][:,0]), axis_title = ['SNSPD-laser time [ns]','Events'], binning = [300,50,60])\n",
    "print(k)"
   ]
  },
  {
   "cell_type": "code",
   "execution_count": 119,
   "id": "bac76608",
   "metadata": {},
   "outputs": [
    {
     "name": "stdout",
     "output_type": "stream",
     "text": [
      "56.11788057060738 57.00540870865612\n",
      "****************************************\n",
      "Minimizer is Minuit2 / Migrad\n",
      "Chi2                      =      188.763\n",
      "NDf                       =           23\n",
      "Edm                       =   3.9967e-07\n",
      "NCalls                    =          145\n",
      "p0                        =      371.119   +/-   6.4204      \n",
      "p1                        =      56.5391   +/-   0.00432841  \n",
      "p2                        =     0.270596   +/-   0.00545131  \n"
     ]
    },
    {
     "data": {
      "image/png": "[encoded data removed]",
      "text/plain": [
       "<IPython.core.display.Image object>"
      ]
     },
     "metadata": {},
     "output_type": "display_data"
    }
   ],
   "source": [
    "class myGaus:\n",
    "    def __call__( self, t, par ):\n",
    "        a = par[0] #amplitude\n",
    "        c = par[1] #center\n",
    "        s = par[2] #sigma\n",
    "        x = t[0]   \n",
    "        tmp = -1.*(x-c)*(x-c)/2. /(s*s)\n",
    "        return a * math.exp( tmp )\n",
    "\n",
    "    \n",
    "class EMG:\n",
    "    def __call__( self, t, par ):\n",
    "    \n",
    "        xx = t[0]\n",
    "        amp = par[0]\n",
    "        mu = par[1]    # Mean of the Gaussian\n",
    "        sigma = par[2] # Standard deviation of the Gaussian\n",
    "        lambd = par[3] # Rate parameter of the exponential\n",
    "\n",
    "        if sigma <= 0 or lambd <= 0:\n",
    "            return 0\n",
    "        erfc_part = math.erfc((mu+lambd*sigma**2-xx)/(sigma*2**0.5))\n",
    "        return amp*lambd/2*math.exp(lambd/2 *(2*mu + lambd*sigma**2-2*xx)) * erfc_part\n",
    "\n",
    "\n",
    "\n",
    "\n",
    "# EMG = EMG()\n",
    "# peak_position = hist.GetBinCenter(hist.GetMaximumBin())\n",
    "# sigma = hist.GetRMS()\n",
    "# nsig = 1\n",
    "# # Define the fit range from -1 sigma to +1 sigma around the peak\n",
    "# fit_range_min = peak_position - 0.7*sigma\n",
    "# fit_range_max = peak_position + 3*sigma\n",
    "# print(fit_range_min,fit_range_max)\n",
    "    \n",
    "# f = ROOT.TF1(\"gaus\", EMG, 55,58, 4)\n",
    "# f.SetParameter(0, 300) # scale\n",
    "# f.SetParameter(1, 56) # scale\n",
    "# f.SetParameter(2, 0.2) # mean\n",
    "# f.SetParameter(3, 2) # standard deviation\n",
    "# fit_result = hist.Fit(f, '','RS', fit_range_min,fit_range_max)\n",
    "\n",
    "\n",
    "EMG = myGaus()\n",
    "peak_position = hist.GetBinCenter(hist.GetMaximumBin())\n",
    "sigma = hist.GetRMS()\n",
    "nsig = 1\n",
    "# Define the fit range from -1 sigma to +1 sigma around the peak\n",
    "fit_range_min = peak_position - 0.7*sigma\n",
    "fit_range_max = peak_position + 1*sigma\n",
    "print(fit_range_min,fit_range_max)\n",
    "    \n",
    "f = ROOT.TF1(\"gaus\", EMG, 55,58, 3)\n",
    "f.SetParameter(0, 300) # scale\n",
    "f.SetParameter(1, 56) # scale\n",
    "f.SetParameter(2, 0.2) # mean\n",
    "fit_result = hist.Fit(f, '','RS', fit_range_min,fit_range_max)\n",
    "\n",
    "hist.Draw()\n",
    "\n",
    "canvas.Draw()"
   ]
  },
  {
   "cell_type": "code",
   "execution_count": null,
   "id": "339f3d19",
   "metadata": {},
   "outputs": [],
   "source": []
  },
  {
   "cell_type": "code",
   "execution_count": null,
   "id": "38cf520a",
   "metadata": {},
   "outputs": [],
   "source": []
  }
 ],
 "metadata": {
  "kernelspec": {
   "display_name": "Python 3 (ipykernel)",
   "language": "python",
   "name": "python3"
  },
  "language_info": {
   "codemirror_mode": {
    "name": "ipython",
    "version": 3
   },
   "file_extension": ".py",
   "mimetype": "text/x-python",
   "name": "python",
   "nbconvert_exporter": "python",
   "pygments_lexer": "ipython3",
   "version": "3.9.12"
  }
 },
 "nbformat": 4,
 "nbformat_minor": 5
}
